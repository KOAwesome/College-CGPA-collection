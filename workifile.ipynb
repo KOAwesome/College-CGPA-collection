{
 "cells": [
  {
   "cell_type": "code",
   "execution_count": 52,
   "metadata": {},
   "outputs": [],
   "source": [
    "from selenium import webdriver\n",
    "from selenium.webdriver.common.keys import Keys\n",
    "from selenium.webdriver.common.by import By\n",
    "import time\n",
    "from openpyxl import Workbook\n",
    "from selenium.webdriver.support.ui import WebDriverWait\n",
    "from selenium.webdriver.support import expected_conditions as EC\n",
    "from selenium.webdriver.common.by import By\n",
    "import os\n"
   ]
  },
  {
   "cell_type": "code",
   "execution_count": 110,
   "metadata": {},
   "outputs": [],
   "source": [
    "hall_ticket_numbers = ['20J41A6936', '20J41A6946']\n",
    "\n",
    "wb = Workbook()\n",
    "\n",
    "sheet = wb.active\n",
    "sheet.append(['Hall Ticket No', 'Student Name', 'Department', 'Marks Obtained', 'CGPA', 'Credits Obtained', 'Subject Due'])\n",
    "driver = webdriver.Firefox()"
   ]
  },
  {
   "cell_type": "code",
   "execution_count": 109,
   "metadata": {},
   "outputs": [
    {
     "ename": "AttributeError",
     "evalue": "'NoneType' object has no attribute 'text'",
     "output_type": "error",
     "traceback": [
      "\u001b[0;31m---------------------------------------------------------------------------\u001b[0m",
      "\u001b[0;31mAttributeError\u001b[0m                            Traceback (most recent call last)",
      "Cell \u001b[0;32mIn[109], line 5\u001b[0m\n\u001b[1;32m      2\u001b[0m driver \u001b[38;5;241m=\u001b[39m webdriver\u001b[38;5;241m.\u001b[39mFirefox()\n\u001b[1;32m      4\u001b[0m \u001b[38;5;28;01mfor\u001b[39;00m hall_ticket_number \u001b[38;5;129;01min\u001b[39;00m hall_ticket_numbers:\n\u001b[0;32m----> 5\u001b[0m     \u001b[43mdriver\u001b[49m\u001b[38;5;241;43m.\u001b[39;49m\u001b[43mget\u001b[49m\u001b[43m(\u001b[49m\u001b[43mbase_url\u001b[49m\u001b[43m)\u001b[49m\u001b[38;5;241;43m.\u001b[39;49m\u001b[43mtext\u001b[49m\n\u001b[1;32m      6\u001b[0m     hall_ticket_input \u001b[38;5;241m=\u001b[39m driver\u001b[38;5;241m.\u001b[39mfind_element(by\u001b[38;5;241m=\u001b[39mBy\u001b[38;5;241m.\u001b[39mNAME,value\u001b[38;5;241m=\u001b[39m\u001b[38;5;124m'\u001b[39m\u001b[38;5;124mHallTicketNo\u001b[39m\u001b[38;5;124m'\u001b[39m)\n\u001b[1;32m      7\u001b[0m     hall_ticket_input\u001b[38;5;241m.\u001b[39msend_keys(hall_ticket_number)\n",
      "\u001b[0;31mAttributeError\u001b[0m: 'NoneType' object has no attribute 'text'"
     ]
    }
   ],
   "source": [
    "base_url = \"https://mrecresults.mrecexams.com/StudentResult/Index?Id=416&ex76brs22fbmm=5218ApbX8rAYg3h1ef\"\n",
    "driver = webdriver.Firefox()\n",
    "\n",
    "for hall_ticket_number in hall_ticket_numbers:\n",
    "    driver.get(base_url)\n",
    "    hall_ticket_input = driver.find_element(by=By.NAME,value='HallTicketNo')\n",
    "    hall_ticket_input.send_keys(hall_ticket_number)\n",
    "    search_button = driver.find_element(by=By.XPATH,value=\"//input[@value='Search Result']\")\n",
    "    search_button.click()\n",
    "    time.sleep(5)\n",
    "    # table = driver.find_element(by=By.XPATH,value='//table')\n",
    "    table = driver.find_elements(by=By.XPATH, value='//table')[3]\n",
    "    print(table)\n",
    "    rows = table.find_elements(by=By.TAG_NAME, value='tr')\n",
    "    # Extract the data\n",
    "    hall_ticket_no = hall_ticket_number\n",
    "    for row in rows[1:]:\n",
    "        cols = row.find_elements(by=By.XPATH,value='.//td')\n",
    "        print(cols)\n",
    "driver.close()\n",
    "\n",
    "# Save the workbook\n",
    "wb.save(\"results.xlsx\")\n"
   ]
  },
  {
   "cell_type": "code",
   "execution_count": 111,
   "metadata": {},
   "outputs": [
    {
     "ename": "AttributeError",
     "evalue": "'WebDriver' object has no attribute 'find_elements_by_name'",
     "output_type": "error",
     "traceback": [
      "\u001b[0;31m---------------------------------------------------------------------------\u001b[0m",
      "\u001b[0;31mAttributeError\u001b[0m                            Traceback (most recent call last)",
      "Cell \u001b[0;32mIn[111], line 11\u001b[0m\n\u001b[1;32m      6\u001b[0m driver\u001b[38;5;241m.\u001b[39mget(base_url)\n\u001b[1;32m      9\u001b[0m \u001b[38;5;66;03m# Find the hall ticket input element and enter the hall ticket number\u001b[39;00m\n\u001b[0;32m---> 11\u001b[0m hall_ticket_input \u001b[38;5;241m=\u001b[39m \u001b[43mdriver\u001b[49m\u001b[38;5;241;43m.\u001b[39;49m\u001b[43mfind_elements_by_name\u001b[49m(value\u001b[38;5;241m=\u001b[39m\u001b[38;5;124m'\u001b[39m\u001b[38;5;124mHallTicketNo\u001b[39m\u001b[38;5;124m'\u001b[39m)[\u001b[38;5;241m0\u001b[39m]\n\u001b[1;32m     13\u001b[0m hall_ticket_input\u001b[38;5;241m.\u001b[39msend_keys(hall_ticket_number)\n\u001b[1;32m     16\u001b[0m \u001b[38;5;66;03m# Find the search button and click it\u001b[39;00m\n",
      "\u001b[0;31mAttributeError\u001b[0m: 'WebDriver' object has no attribute 'find_elements_by_name'"
     ]
    }
   ],
   "source": [
    "driver = webdriver.Firefox()\n",
    "for hall_ticket_number in hall_ticket_numbers:\n",
    "\n",
    "    # Navigate to the base URL\n",
    "\n",
    "    driver.get(base_url)\n",
    "\n",
    "\n",
    "    # Find the hall ticket input element and enter the hall ticket number\n",
    "\n",
    "    hall_ticket_input = driver.find_elements(by=By.NAME,value='HallTicketNo')[0]\n",
    "\n",
    "    hall_ticket_input.send_keys(hall_ticket_number)\n",
    "\n",
    "\n",
    "    # Find the search button and click it\n",
    "\n",
    "    search_button = driver.find_element(by=By.XPATH,value=\"//input[@value='Search Result']\")\n",
    "\n",
    "    search_button.click()\n",
    "\n",
    "\n",
    "    # Wait for the table to load\n",
    "\n",
    "    time.sleep(5)\n",
    "\n",
    "\n",
    "    # Find the table and print it\n",
    "\n",
    "    table = driver.find_elements(by=By.XPATH,value='//table')[3]\n",
    "\n",
    "    print(table.get_attribute('outerHTML'))\n",
    "\n",
    "\n",
    "    # Find all the rows in the table\n",
    "\n",
    "    rows = table.find_elements(by=By.XPATH,value='.//tr')\n",
    "\n",
    "\n",
    "    # Extract the data\n",
    "\n",
    "    hall_ticket_no = hall_ticket_number\n",
    "\n",
    "    data = []\n",
    "\n",
    "    for row in rows:\n",
    "\n",
    "        cols = row.find_elements(by=By.XPATH,value='.//td')\n",
    "\n",
    "        if cols:\n",
    "\n",
    "            cols = [col.text.strip() for col in cols]\n",
    "\n",
    "            data.append(cols)\n",
    "\n",
    "\n",
    "    # Save the data to the workbook\n",
    "\n",
    "    for i, row in enumerate(data):\n",
    "\n",
    "        for j, col in enumerate(row):\n",
    "\n",
    "            sheet.cell(row=i+2, column=j+1, value=col)\n",
    "\n",
    "\n",
    "# Save the workbook\n",
    "\n",
    "wb.save(\"results.xlsx\")\n",
    "\n",
    "\n",
    "# Close the driver\n",
    "\n",
    "driver.close()"
   ]
  },
  {
   "cell_type": "code",
   "execution_count": null,
   "metadata": {},
   "outputs": [],
   "source": [
    "driver = webdriver.Firefox()\n",
    "driver.get(base_url)\n",
    "hall_ticket_input = driver.find_element(by=By.NAME, value='HallTicketNo')\n",
    "hall_ticket_input.send_keys(\"20j41a6946\")\n",
    "search_button = driver.find_element(by=By.XPATH, value=\"//input[@value='Search Result']\")\n",
    "search_button.click()\n",
    "html = driver.page_source\n",
    "print(html)\n"
   ]
  },
  {
   "cell_type": "code",
   "execution_count": null,
   "metadata": {},
   "outputs": [],
   "source": [
    "from bs4 import BeautifulSoup as bs\n",
    "soup = bs(html, \"html.parser\")\n",
    "# print(soup)\n",
    "table = soup.find_all('table')\n",
    "print(table)"
   ]
  },
  {
   "cell_type": "code",
   "execution_count": null,
   "metadata": {},
   "outputs": [],
   "source": [
    "table[3]"
   ]
  }
 ],
 "metadata": {
  "kernelspec": {
   "display_name": ".venv",
   "language": "python",
   "name": "python3"
  },
  "language_info": {
   "codemirror_mode": {
    "name": "ipython",
    "version": 3
   },
   "file_extension": ".py",
   "mimetype": "text/x-python",
   "name": "python",
   "nbconvert_exporter": "python",
   "pygments_lexer": "ipython3",
   "version": "3.12.1"
  }
 },
 "nbformat": 4,
 "nbformat_minor": 2
}
