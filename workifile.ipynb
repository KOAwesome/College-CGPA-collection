{
 "cells": [
  {
   "cell_type": "code",
   "execution_count": 1,
   "metadata": {},
   "outputs": [],
   "source": [
    "from selenium import webdriver\n",
    "from selenium.webdriver.common.keys import Keys\n",
    "from selenium.webdriver.common.by import By\n",
    "import time\n",
    "from openpyxl import Workbook\n",
    "from selenium.webdriver.support.ui import WebDriverWait\n",
    "from selenium.webdriver.support import expected_conditions as EC\n",
    "from selenium.webdriver.common.by import By\n",
    "import os\n",
    "import re"
   ]
  },
  {
   "cell_type": "code",
   "execution_count": 9,
   "metadata": {},
   "outputs": [],
   "source": [
    "\n",
    "\n",
    "hall_ticket_numbers = [f\"20J41A69{i}\" if (i // 10 > 0) else f\"20J41A690{i}\" for i in range(1,61)]\n",
    "for i in range(1,7):\n",
    "    hall_ticket_numbers.append(f\"21j45a690{i}\")\n",
    "\n",
    "len(hall_ticket_numbers)\n",
    "hall_ticket_numbers=hall_ticket_numbers[0:2]"
   ]
  },
  {
   "cell_type": "code",
   "execution_count": 10,
   "metadata": {},
   "outputs": [],
   "source": [
    "wb = Workbook()\n",
    "\n",
    "sheet = wb.active\n",
    "sheet.append(['HTNO',\n",
    "    'Edge Analytics',\n",
    " 'Cyber Security',\n",
    " 'Machine Learning',\n",
    " 'Software Project Management',\n",
    " 'Human Computer Interaction',\n",
    " 'Renewable Energy Source',\n",
    " 'Edge Analytics Lab',\n",
    " 'Machine Learning Lab',\n",
    " 'Internship / Mini Project',\n",
    " 'Total',\n",
    " 'SGPA'])\n",
    "base_url = \"https://mrecresults.mrecexams.com/StudentResult/Index?Id=416&ex76brs22fbmm=5218ApbX8rAYg3h1ef\""
   ]
  },
  {
   "cell_type": "code",
   "execution_count": 16,
   "metadata": {},
   "outputs": [],
   "source": [
    "rowCount,colCount = 2, 0\n",
    "driver = webdriver.Firefox()\n",
    "for hall_ticket_number in hall_ticket_numbers:\n",
    "    driver.get(base_url)\n",
    "    hall_ticket_input = driver.find_elements(by=By.NAME,value='HallTicketNo')[0]\n",
    "    hall_ticket_input.send_keys(hall_ticket_number)\n",
    "    search_button = driver.find_element(by=By.XPATH,value=\"//input[@value='Search Result']\")\n",
    "    search_button.click()\n",
    "    time.sleep(5)\n",
    "\n",
    "    \n",
    "    table = driver.find_elements(by=By.XPATH,value='//table')[3]\n",
    "    rows = table.find_elements(by=By.XPATH,value='.//tr')\n",
    "\n",
    "    data = []\n",
    "    for row in rows:\n",
    "        cols = row.find_elements(by=By.XPATH,value='.//td')\n",
    "        if cols:\n",
    "            cols = [col.text.strip() for col in cols]\n",
    "            data.append(cols)\n",
    "\n",
    "    sheet.cell(row=rowCount, column=colCount + 1, value=hall_ticket_number)\n",
    "    colCount += 1\n",
    "\n",
    "\n",
    "    # Save the data to the workbook\n",
    "    for i in range(10):\n",
    "        sheet.cell(row=rowCount, column=i+colCount, value=data[i][7])# row count is passed by user\n",
    "    data[10][1] = re.findall(\"[0-9]+\\\\.+[0-9]+\", data[10][1])\n",
    "    sheet.cell(row=rowCount, column=i+2, value=data[10][1][0])\n",
    "    rowCount+=1\n",
    "    colCount = 0\n",
    "\n",
    "wb.save(\"results.xlsx\")\n",
    "\n",
    "driver.close()"
   ]
  },
  {
   "cell_type": "code",
   "execution_count": 92,
   "metadata": {},
   "outputs": [
    {
     "data": {
      "text/plain": [
       "['9.15']"
      ]
     },
     "execution_count": 92,
     "metadata": {},
     "output_type": "execute_result"
    }
   ],
   "source": [
    " re.findall(\"[0-9]+\\\\.+[0-9]+\", \"9.15\")"
   ]
  }
 ],
 "metadata": {
  "kernelspec": {
   "display_name": ".venv",
   "language": "python",
   "name": "python3"
  },
  "language_info": {
   "codemirror_mode": {
    "name": "ipython",
    "version": 3
   },
   "file_extension": ".py",
   "mimetype": "text/x-python",
   "name": "python",
   "nbconvert_exporter": "python",
   "pygments_lexer": "ipython3",
   "version": "3.12.1"
  }
 },
 "nbformat": 4,
 "nbformat_minor": 2
}
