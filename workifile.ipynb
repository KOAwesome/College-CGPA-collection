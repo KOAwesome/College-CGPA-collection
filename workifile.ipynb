{
 "cells": [
  {
   "cell_type": "code",
   "execution_count": 1,
   "metadata": {},
   "outputs": [],
   "source": [
    "from selenium import webdriver\n",
    "from selenium.webdriver.common.keys import Keys\n",
    "from selenium.webdriver.common.by import By\n",
    "import time\n",
    "from openpyxl import Workbook\n",
    "from selenium.webdriver.support.ui import WebDriverWait\n",
    "from selenium.webdriver.support import expected_conditions as EC\n",
    "from selenium.webdriver.common.by import By\n",
    "import os\n",
    "import re"
   ]
  },
  {
   "cell_type": "code",
   "execution_count": 27,
   "metadata": {},
   "outputs": [],
   "source": [
    "\n",
    "\n",
    "hall_ticket_numbers = [f\"20J41A69{i}\" if (i // 10 > 0) else f\"20J41A690{i}\" for i in range(1,61)]\n",
    "for i in range(1,7):\n",
    "    hall_ticket_numbers.append(f\"21j45a690{i}\")\n"
   ]
  },
  {
   "cell_type": "code",
   "execution_count": 36,
   "metadata": {},
   "outputs": [],
   "source": [
    "wb = Workbook()\n",
    "\n",
    "sheet = wb.active\n",
    "sheet.append(['HTNO',\n",
    "              'Name',\n",
    "    'Edge Analytics',\n",
    " 'Cyber Security',\n",
    " 'Machine Learning',\n",
    " 'Software Project Management',\n",
    " 'Human Computer Interaction',\n",
    " 'Renewable Energy Source',\n",
    " 'Edge Analytics Lab',\n",
    " 'Machine Learning Lab',\n",
    " 'Internship / Mini Project',\n",
    " 'Total',\n",
    " 'SGPA',\n",
    " 'marks obtained'\n",
    " 'CGPA',\n",
    " 'credits',\n",
    " 'subjects due'])\n",
    "base_url = \"https://mrecresults.mrecexams.com/StudentResult/Index?Id=416&ex76brs22fbmm=5218ApbX8rAYg3h1ef\""
   ]
  },
  {
   "cell_type": "code",
   "execution_count": 98,
   "metadata": {},
   "outputs": [],
   "source": [
    "rowCount= 2\n",
    "driver = webdriver.Firefox()\n",
    "for hall_ticket_number in hall_ticket_numbers:\n",
    "    driver.get(base_url)\n",
    "    hall_ticket_input = driver.find_elements(by=By.NAME,value='HallTicketNo')[0]\n",
    "    hall_ticket_input.send_keys(hall_ticket_number)\n",
    "    search_button = driver.find_element(by=By.XPATH,value=\"//input[@value='Search Result']\")\n",
    "    search_button.click()\n",
    "    time.sleep(3)\n",
    "\n",
    "    \n",
    "    table = driver.find_elements(by=By.XPATH,value='//table')[3]\n",
    "    rows = table.find_elements(by=By.XPATH,value='.//tr')\n",
    "\n",
    "    data = []\n",
    "    for row in rows:\n",
    "        cols = row.find_elements(by=By.XPATH,value='.//td')\n",
    "        if cols:\n",
    "            cols = [col.text.strip() for col in cols]\n",
    "            data.append(cols)\n",
    "\n",
    "    sheet.cell(row=rowCount, column=1, value=hall_ticket_number)\n",
    "    student_name_element = driver.find_element(By.XPATH, \"//span[contains(., 'Student Name:')]/following-sibling::span[1]\")\n",
    "    name = student_name_element.get_attribute(\"innerHTML\") \n",
    "    sheet.cell(row=rowCount, column=2, value=name)\n",
    "\n",
    "\n",
    "\n",
    "    # Save the data to the workbook\n",
    "    for i in range(10):\n",
    "        sheet.cell(row=rowCount, column=i + 3, value=data[i][7])# row count is passed by user\n",
    "    data[10][1] = re.findall(\"[0-9]+\\\\.+[0-9]+\", data[10][1])\n",
    "    sheet.cell(row=rowCount, column=i+4, value=data[10][1][0])\n",
    "    \n",
    "    table2 = driver.find_elements(by=By.XPATH,value='//table')[2]\n",
    "    rows = table2.find_elements(by=By.XPATH,value='.//tr')\n",
    "\n",
    "    data2 = []\n",
    "    for row in rows:\n",
    "            cols = row.find_elements(by=By.XPATH,value='.//td')\n",
    "            if cols:\n",
    "                cols = [col.text.strip() for col in cols]\n",
    "                data2.append(cols)\n",
    "    sheet.cell(row=rowCount, column=i+5, value=data2[1][1])\n",
    "    sheet.cell(row=rowCount, column=i+6, value=data2[1][3])\n",
    "    sheet.cell(row=rowCount, column=i+7, value=data2[2][1])\n",
    "    sheet.cell(row=rowCount, column=i+8, value=data2[2][3])\n",
    "\n",
    "\n",
    "\n",
    "    rowCount+=1\n",
    "\n",
    "\n",
    "\n",
    "\n",
    "wb.save(\"results.xlsx\")\n",
    "\n"
   ]
  },
  {
   "cell_type": "code",
   "execution_count": 92,
   "metadata": {},
   "outputs": [
    {
     "ename": "IndexError",
     "evalue": "list index out of range",
     "output_type": "error",
     "traceback": [
      "\u001b[0;31m---------------------------------------------------------------------------\u001b[0m",
      "\u001b[0;31mIndexError\u001b[0m                                Traceback (most recent call last)",
      "Cell \u001b[0;32mIn[92], line 1\u001b[0m\n\u001b[0;32m----> 1\u001b[0m table3 \u001b[38;5;241m=\u001b[39m \u001b[43mdriver\u001b[49m\u001b[38;5;241;43m.\u001b[39;49m\u001b[43mfind_elements\u001b[49m\u001b[43m(\u001b[49m\u001b[43mby\u001b[49m\u001b[38;5;241;43m=\u001b[39;49m\u001b[43mBy\u001b[49m\u001b[38;5;241;43m.\u001b[39;49m\u001b[43mXPATH\u001b[49m\u001b[43m,\u001b[49m\u001b[43mvalue\u001b[49m\u001b[38;5;241;43m=\u001b[39;49m\u001b[38;5;124;43m'\u001b[39;49m\u001b[38;5;124;43m//table\u001b[39;49m\u001b[38;5;124;43m'\u001b[39;49m\u001b[43m)\u001b[49m\u001b[43m[\u001b[49m\u001b[38;5;241;43m5\u001b[39;49m\u001b[43m]\u001b[49m\n\u001b[1;32m      2\u001b[0m \u001b[38;5;28mprint\u001b[39m(table3\u001b[38;5;241m.\u001b[39mget_attribute(\u001b[38;5;124m\"\u001b[39m\u001b[38;5;124mouterHTML\u001b[39m\u001b[38;5;124m\"\u001b[39m))\n",
      "\u001b[0;31mIndexError\u001b[0m: list index out of range"
     ]
    }
   ],
   "source": [
    "table3 = driver.find_elements(by=By.XPATH,value='//table')[5]\n",
    "print(table3.get_attribute(\"outerHTML\"))\n"
   ]
  },
  {
   "cell_type": "code",
   "execution_count": 70,
   "metadata": {},
   "outputs": [
    {
     "data": {
      "text/plain": [
       "'A6217'"
      ]
     },
     "execution_count": 70,
     "metadata": {},
     "output_type": "execute_result"
    }
   ],
   "source": [
    "data2[1][1]"
   ]
  },
  {
   "cell_type": "code",
   "execution_count": 97,
   "metadata": {},
   "outputs": [
    {
     "name": "stdout",
     "output_type": "stream",
     "text": [
      "SAI RAHUL NALLANDHIGHAL \n"
     ]
    }
   ],
   "source": [
    "driver = webdriver.Firefox()\n",
    "driver.get(base_url)\n",
    "hall_ticket_input = driver.find_elements(by=By.NAME,value='HallTicketNo')[0]\n",
    "hall_ticket_input.send_keys(\"20J41A6946\")\n",
    "search_button = driver.find_element(by=By.XPATH,value=\"//input[@value='Search Result']\")\n",
    "search_button.click()\n",
    "time.sleep(3)\n",
    "student_name_element = driver.find_element(By.XPATH, \"//span[contains(., 'Student Name:')]/following-sibling::span[1]\")\n",
    "inner_html = student_name_element.get_attribute(\"innerHTML\")\n",
    "print(inner_html)\n"
   ]
  }
 ],
 "metadata": {
  "kernelspec": {
   "display_name": ".venv",
   "language": "python",
   "name": "python3"
  },
  "language_info": {
   "codemirror_mode": {
    "name": "ipython",
    "version": 3
   },
   "file_extension": ".py",
   "mimetype": "text/x-python",
   "name": "python",
   "nbconvert_exporter": "python",
   "pygments_lexer": "ipython3",
   "version": "3.12.1"
  }
 },
 "nbformat": 4,
 "nbformat_minor": 2
}
